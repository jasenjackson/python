{
 "cells": [
  {
   "cell_type": "markdown",
   "metadata": {
    "collapsed": true
   },
   "source": [
    "![Python Logo](https://www.python.org/static/community_logos/python-logo-master-v3-TM.png)"
   ]
  },
  {
   "cell_type": "markdown",
   "metadata": {},
   "source": [
    "A Wicked Fast Introduction to Python\n",
    "=========================================\n",
    "\n",
    "The next few documents serve as a compilation of examples that lead the reader (that's you!) through the nitty-gritty details of python. But worry not, python is a high-level programming language designed for readabiity and functionality. In this tutorial, I will cover **basic math/string syntax.** In the second, I'll cover **Control Flow**, and in the third, I'll cover **data structures**. Sit back and enjoy the ride, because this guide may be the most useful thing I have ever made."
   ]
  },
  {
   "cell_type": "markdown",
   "metadata": {},
   "source": [
    "In fact, I plan on using this guide to teach python in introductory classes, but also to reference as I begin my coding career. Feel free to download this and reference it as you begin your first few coding projects. My hope is that, eventually, I will have worked so much with python that I will not need the guide. Happy coding! -- Dr. Jasen Jackson, PhD."
   ]
  },
  {
   "cell_type": "markdown",
   "metadata": {},
   "source": [
    "Hello world - A Brief Introduction to Python Syntax\n",
    "===================================================\n",
    "\n",
    "Let's start off with making python speak. I *know*, it's cliche. But come on, it's protocol! Coding involves a sequential list of commands. The computer goes line by line, \"reads\" each instruction and responds accordingly. The first command you will learn (if you're following this guide) is the print command. "
   ]
  },
  {
   "cell_type": "code",
   "execution_count": 20,
   "metadata": {
    "collapsed": false
   },
   "outputs": [
    {
     "name": "stdout",
     "output_type": "stream",
     "text": [
      "Hello world\n",
      "Hello world\n"
     ]
    }
   ],
   "source": [
    "print(\"Hello world\")\n",
    "print \"Hello world\""
   ]
  },
  {
   "cell_type": "markdown",
   "metadata": {},
   "source": [
    "As you can see, there are two different ways to use the print command. Either way should be fine with most code, but we are going to use the print() notation from this point on!"
   ]
  },
  {
   "cell_type": "markdown",
   "metadata": {},
   "source": [
    "Variables\n",
    "---------\n",
    "\n",
    "As you may remember from algebra, a variable is simply one \"thing\" that temporarily represents a value. While in math, the variable is only real numbers, in python, the variable can represent integers, decimals and text (or strings)!"
   ]
  },
  {
   "cell_type": "code",
   "execution_count": 8,
   "metadata": {
    "collapsed": false
   },
   "outputs": [
    {
     "name": "stdout",
     "output_type": "stream",
     "text": [
      "10\n"
     ]
    }
   ],
   "source": [
    "variable = 10\n",
    "print(variable)"
   ]
  },
  {
   "cell_type": "markdown",
   "metadata": {},
   "source": [
    "Booleans\n",
    "--------\n",
    "\n",
    "A boolean is a variable that can only hold two values, 'True' or 'false'. This is useful for testing values that are yes or no. "
   ]
  },
  {
   "cell_type": "code",
   "execution_count": 9,
   "metadata": {
    "collapsed": false
   },
   "outputs": [
    {
     "name": "stdout",
     "output_type": "stream",
     "text": [
      "True\n"
     ]
    }
   ],
   "source": [
    "boolean = True\n",
    "print(boolean)"
   ]
  },
  {
   "cell_type": "markdown",
   "metadata": {},
   "source": [
    "Let's work with numbers! (Introduction to Mathematical Operations)\n",
    "----------------------------\n",
    "\n",
    "You may have heard that computer science and math are very similar. This is because we can make our computers do math! With Python, we can make our machine add, subtract, multiply, divide and much more!"
   ]
  },
  {
   "cell_type": "code",
   "execution_count": 14,
   "metadata": {
    "collapsed": false
   },
   "outputs": [
    {
     "name": "stdout",
     "output_type": "stream",
     "text": [
      "95\n",
      "-96\n",
      "54.0\n",
      "12\n",
      "25\n",
      "1\n"
     ]
    }
   ],
   "source": [
    "addition = 72 + 23\n",
    "subtraction = 108 - 204\n",
    "multiplication = 108 * 0.5\n",
    "division = 108 / 9\n",
    "exponentiation = 5 ** 2\n",
    "modulo = 8 % 7 # divide 8 evenly 7 times. What's left over?\n",
    "\n",
    "print(addition)\n",
    "print(subtraction)\n",
    "print(multiplication)\n",
    "print(division)\n",
    "print(exponentiation)\n",
    "print(modulo)"
   ]
  },
  {
   "cell_type": "markdown",
   "metadata": {},
   "source": [
    "Let's work with words! (Introduction to strings)\n",
    "=================================================\n",
    "\n",
    "Now that we can work with numbers, let's work with letters and words! When you use text (as opposed to numbers), it is called a string. Let's get our hands dirty with strings!"
   ]
  },
  {
   "cell_type": "code",
   "execution_count": 15,
   "metadata": {
    "collapsed": false
   },
   "outputs": [
    {
     "name": "stdout",
     "output_type": "stream",
     "text": [
      "Apple\n"
     ]
    }
   ],
   "source": [
    "word = \"Apple\"\n",
    "\n",
    "print(word)"
   ]
  },
  {
   "cell_type": "markdown",
   "metadata": {},
   "source": [
    "You can escape characters apostrophes by hitting the backspace button before typing them."
   ]
  },
  {
   "cell_type": "code",
   "execution_count": 25,
   "metadata": {
    "collapsed": false
   },
   "outputs": [
    {
     "name": "stdout",
     "output_type": "stream",
     "text": [
      "This is a sentence. \n",
      "I personally think it's fantastic.\n"
     ]
    }
   ],
   "source": [
    "sentence = 'This is a sentence. \\nI personally think it\\'s fantastic.' #use \\n to move to another line\n",
    "print(sentence) "
   ]
  },
  {
   "cell_type": "markdown",
   "metadata": {},
   "source": [
    "Each character in a string is assigned a number. This number is called the index. The index, confusingly enough, starts at 0. "
   ]
  },
  {
   "cell_type": "code",
   "execution_count": 19,
   "metadata": {
    "collapsed": false
   },
   "outputs": [
    {
     "name": "stdout",
     "output_type": "stream",
     "text": [
      "o\n"
     ]
    }
   ],
   "source": [
    "word = \"Python\" \n",
    "\n",
    "print(word[4]) #this should return the fifth letter, 'o'."
   ]
  },
  {
   "cell_type": "markdown",
   "metadata": {},
   "source": [
    "String Slicing\n",
    "----\n",
    "\n",
    "In addition to indexing, slicing is also supported. While indexing is used to obtain individual characters, slicing allows you to obtain a substring."
   ]
  },
  {
   "cell_type": "code",
   "execution_count": 31,
   "metadata": {
    "collapsed": false
   },
   "outputs": [
    {
     "name": "stdout",
     "output_type": "stream",
     "text": [
      "pytho\n",
      "py\n",
      "thon\n",
      "thon\n",
      "py\n",
      "python\n"
     ]
    }
   ],
   "source": [
    "word = \"python\"\n",
    "\n",
    "print(word[0:5]) # starting from 0, up to and excluding the ffth character. \n",
    "print(word[0:2]) # So, with slicing, you slice to the nth character\n",
    "print(word[2:6]) # If indexing with [a,b], a is included and b is excluded.\n",
    "print(word[2:])  # You can leave the slot for b open as well, so it just goes to the end of the word\n",
    "print(word[:2])  # This also works for the slot for a. \n",
    "print(word[:])   # Technically, you're allowed to leave it open for both"
   ]
  },
  {
   "cell_type": "markdown",
   "metadata": {},
   "source": [
    "String Methods\n",
    "--------------\n",
    "\n",
    "As you continue in your coding career, you will start to here about something called a method. For now, all you need to know is that a method is something that *does* something. Now we will learn about our first method, the string methods. Watch out! There are methods you can use to manipulate strings in python."
   ]
  },
  {
   "cell_type": "code",
   "execution_count": 24,
   "metadata": {
    "collapsed": false
   },
   "outputs": [
    {
     "name": "stdout",
     "output_type": "stream",
     "text": [
      "43\n",
      "WHAT ARE YOUR LEGS? SPRINGS! STEEL SPRINGS!\n",
      "what are your legs? springs! steel springs!\n",
      "1465738\n"
     ]
    }
   ],
   "source": [
    "word = \"What are your legs? Strings! Steel Strings!\"\n",
    "integer = 1465738\n",
    "\n",
    "print(len(word)) # use the len() method to output the length of a string\n",
    "print(word.upper()) #make all your letters frickin' angry\n",
    "print(word.lower()) #make all your letters more frickin' polite\n",
    "print(str(integer)) #turn your numbers into strings -- trust me. It's a god damn string. \n"
   ]
  },
  {
   "cell_type": "code",
   "execution_count": 1,
   "metadata": {
    "collapsed": false
   },
   "outputs": [
    {
     "name": "stdout",
     "output_type": "stream",
     "text": [
      "This is a god damn string.\n"
     ]
    }
   ],
   "source": [
    "print(\"This \" + \"is \" + \"a god damn string.\") #You can also bring strings together by adding plus signs"
   ]
  },
  {
   "cell_type": "markdown",
   "metadata": {
    "collapsed": true
   },
   "source": [
    "Getting User Input\n",
    "------------------\n",
    "\n",
    "For now, all of our programs have worked internally. What if you wanted to allow your program to recieve user input. While there are better ways of building applications, the raw_input() method is a fun way to start making your own computer programs."
   ]
  },
  {
   "cell_type": "code",
   "execution_count": 32,
   "metadata": {
    "collapsed": false
   },
   "outputs": [
    {
     "name": "stdout",
     "output_type": "stream",
     "text": [
      "What's your name? Jasen\n",
      "What's your birthday? February 20th\n"
     ]
    }
   ],
   "source": [
    "name = raw_input(\"What's your name? \")\n",
    "birthday  = raw_input(\"What's your birthday? \")"
   ]
  },
  {
   "cell_type": "markdown",
   "metadata": {},
   "source": [
    "If you want to insert a variable into a phrase, you can simply put the operator %s wherever you want to place a variable in the string. Then, after the string, simply type % (variable_1, variable_2). This allows you to place the variable into the string. It works sequentially."
   ]
  },
  {
   "cell_type": "code",
   "execution_count": 34,
   "metadata": {
    "collapsed": false
   },
   "outputs": [
    {
     "name": "stdout",
     "output_type": "stream",
     "text": [
      "Hi Jasen! Your birthday is February 20th.\n"
     ]
    }
   ],
   "source": [
    "print(\"Hi %s! Your birthday is %s.\" % (name, birthday))"
   ]
  },
  {
   "cell_type": "markdown",
   "metadata": {
    "collapsed": true
   },
   "source": []
  },
  {
   "cell_type": "code",
   "execution_count": 21,
   "metadata": {
    "collapsed": false
   },
   "outputs": [
    {
     "name": "stdout",
     "output_type": "stream",
     "text": [
      "Hey!\n",
      "Welcome to Loyola. Are you premed? (Y/N)n\n",
      "Mk. You're not premed. Are you going into the sciences? (Y/N)n\n",
      "I know nothing about your field.\n"
     ]
    }
   ],
   "source": [
    "print(\"Hey!\")\n",
    "premed = raw_input(\"Welcome to Loyola. Are you premed? (Y/N)\")\n",
    "\n",
    "    \n",
    "#premed track    \n",
    "if (premed == \"Y\" or premed =='y'):\n",
    "    science_premed = raw_input(\"Mk. You're premed. Are you interested in science? (Y/N)\")\n",
    "    if (science_premed == \"Y\" or science_premed == 'y'):\n",
    "        major = raw_input(\"Neat-o! Science is awesome. What do you want to study?\")\n",
    "        if (major == \"biology\"):\n",
    "            print(\"Yeah.. I guess science isn't for everyone.\")\n",
    "        else:\n",
    "            print(\"Neat-o! I've always wanted to go into %s\" % (major))\n",
    "    else:\n",
    "        print(\"I've heard law school is fun.\")\n",
    "    \n",
    "#non-premed track\n",
    "else: \n",
    "    science = raw_input(\"Mk. You're not premed. Are you going into the sciences? (Y/N)\")\n",
    "    #science track\n",
    "    if (science == \"Y\" or science == \"y\"):\n",
    "        major = raw_input(\"Neat-o! You should join Chi Beta Phi. What's your major?\")\n",
    "        print(\"Dope. I've always wanted to go into %s!\") % (major)\n",
    "    #non-science track\n",
    "    else: \n",
    "        print(\"I know nothing about your field.\")\n",
    "        "
   ]
  }
 ],
 "metadata": {
  "kernelspec": {
   "display_name": "Python 2",
   "language": "python",
   "name": "python2"
  },
  "language_info": {
   "codemirror_mode": {
    "name": "ipython",
    "version": 2
   },
   "file_extension": ".py",
   "mimetype": "text/x-python",
   "name": "python",
   "nbconvert_exporter": "python",
   "pygments_lexer": "ipython2",
   "version": "2.7.11"
  }
 },
 "nbformat": 4,
 "nbformat_minor": 0
}
