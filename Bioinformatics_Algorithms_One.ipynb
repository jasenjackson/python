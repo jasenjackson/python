{
 "cells": [
  {
   "cell_type": "markdown",
   "metadata": {},
   "source": [
    "Bioinformatics Algorithms\n",
    "==========\n",
    "\n",
    "This notebook covers concepts and code from the Bioinformatics Algorithms textbook. This book presents students with a dynamic approach to learning bioinformatics. Covering fundamental topics in genomics, machine learning, and biological data science, it strikes a unique balance between practical challenges in modern biology and fundamental algorithmic ideas, thus capturing the interest of students of both biology and computer science.\n",
    "\n",
    "Each chapter begins with a central biological question, such as “Are There Fragile Regions in the Human Genome?” or “Which DNA Patterns Play the Role of Molecular Clocks?” and then steadily develops the algorithmic sophistication required to answer this question. Hundreds of exercises are incorporated directly into the text as soon as they are needed; readers can test their knowledge through automated coding challenges on the Rosalind Bioinformatics Textbook Track."
   ]
  },
  {
   "cell_type": "markdown",
   "metadata": {},
   "source": [
    "Chapter One: Where in the genome does DNA replication begin?\n",
    "-----------\n",
    "\n"
   ]
  },
  {
   "cell_type": "code",
   "execution_count": null,
   "metadata": {
    "collapsed": true
   },
   "outputs": [],
   "source": []
  }
 ],
 "metadata": {
  "kernelspec": {
   "display_name": "Python 2",
   "language": "python",
   "name": "python2"
  },
  "language_info": {
   "codemirror_mode": {
    "name": "ipython",
    "version": 2
   },
   "file_extension": ".py",
   "mimetype": "text/x-python",
   "name": "python",
   "nbconvert_exporter": "python",
   "pygments_lexer": "ipython2",
   "version": "2.7.11"
  }
 },
 "nbformat": 4,
 "nbformat_minor": 0
}
