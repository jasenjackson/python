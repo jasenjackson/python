{
 "cells": [
  {
   "cell_type": "markdown",
   "metadata": {},
   "source": [
    "![Python Logo](https://www.python.org/static/community_logos/python-logo-master-v3-TM.png)"
   ]
  },
  {
   "cell_type": "markdown",
   "metadata": {
    "collapsed": true
   },
   "source": [
    "Control Flow (Bring Your Code to Life!)\n",
    "=====================\n",
    "\n",
    "In this section, we'll learn about controlling and organizing your program. There are various methods for controlling program flow in python (which are similar if not identical to other languages). Firstly, you'll want to organize chunks of code into functions that \"do\" various thingss. Then you may want to do something over and over again until a certain point, or go through every item in a set of data. "
   ]
  },
  {
   "cell_type": "markdown",
   "metadata": {},
   "source": [
    "Interact with your programs! (Introduction to Conditionals)\n",
    "------------------------------------------------------------\n",
    "\n",
    "Now that you know how to get user input, how can you respond to what the user puts in? We'll learn more about control flow in the next notebook in this series, but right now let's talk about conditionals. If you want to control the direction a program is going, based on user response (or someother input) you will need what are called \"if\" statements, or conditionals. It allows the computer to receive directions the same way we do. \"If this happens\" then \"do this\". Look at the code below, to see how if-statements can bring a program to life:"
   ]
  },
  {
   "cell_type": "code",
   "execution_count": 35,
   "metadata": {
    "collapsed": false
   },
   "outputs": [
    {
     "name": "stdout",
     "output_type": "stream",
     "text": [
      "Hey!\n",
      "Welcome to Loyola. Are you premed? (Y/N)n\n",
      "Mk. You're not premed. Are you going into the sciences? (Y/N)y\n",
      "Neat-o! You should join Chi Beta Phi. What's your major?astronomy\n",
      "Dope. I've always wanted to go into astronomy!\n"
     ]
    }
   ],
   "source": [
    "print(\"Hey!\")\n",
    "premed = raw_input(\"Welcome to Loyola. Are you premed? (Y/N)\")\n",
    "\n",
    "    \n",
    "#premed track    \n",
    "if (premed == \"Y\" or premed =='y'):\n",
    "    science_premed = raw_input(\"Mk. You're premed. Are you interested in science? (Y/N)\")\n",
    "    if (science_premed == \"Y\" or science_premed == 'y'):\n",
    "        major = raw_input(\"Neat-o! Science is awesome. What do you want to study?\")\n",
    "        if (major == \"biology\"):\n",
    "            print(\"Yeah.. I guess science isn't for everyone.\")\n",
    "        else:\n",
    "            print(\"Neat-o! I've always wanted to go into %s\" % (major))\n",
    "    else:\n",
    "        print(\"I've heard law school is fun.\")\n",
    "    \n",
    "#non-premed track\n",
    "else: \n",
    "    science = raw_input(\"Mk. You're not premed. Are you going into the sciences? (Y/N)\")\n",
    "    #science track\n",
    "    if (science == \"Y\" or science == \"y\"):\n",
    "        major = raw_input(\"Neat-o! You should join Chi Beta Phi. What's your major?\")\n",
    "        print(\"Dope. I've always wanted to go into %s!\") % (major)\n",
    "    #non-science track\n",
    "    else: \n",
    "        print(\"I know nothing about your field.\")"
   ]
  },
  {
   "cell_type": "markdown",
   "metadata": {
    "collapsed": true
   },
   "source": [
    "Functions\n",
    "---\n",
    "\n",
    "A function is simply a small subset of your program that you can call whenever you'd like, over and over again. To see how a function works, study the code below."
   ]
  },
  {
   "cell_type": "code",
   "execution_count": 39,
   "metadata": {
    "collapsed": false
   },
   "outputs": [
    {
     "name": "stdout",
     "output_type": "stream",
     "text": [
      "Gpa? 3.4\n",
      "MCAT? 34\n",
      "You still have a chance\n"
     ]
    }
   ],
   "source": [
    "# DISCLAIMER: This is not how getting into medical school actually works. Please flesh out your app and focus on being a real person.\n",
    "def premed(gpa, mcat):  # Add your parameters here!\n",
    "    if gpa > 3.5 and mcat > 32:\n",
    "        print(\"Congratulations\")\n",
    "    else:\n",
    "        print(\"You still have a chance\")\n",
    "\n",
    "gpa= raw_input(\"Gpa? \")        \n",
    "mcat = raw_input(\"MCAT? \")        \n",
    "gpa = float(gpa)\n",
    "mcat = int(mcat)\n",
    "\n",
    "premed(gpa, mcat)  # Add your arguments here!"
   ]
  },
  {
   "cell_type": "markdown",
   "metadata": {},
   "source": [
    "Terminology\n",
    "----\n",
    "\n",
    "To *call* a function, you must pass an *argument* to it. It then assigns a variable, known as a *parameter*, to the value of the argument. A function can require as many parameters as you'd like, but when you call the function, you should generally pass in a matching number of arguments."
   ]
  },
  {
   "cell_type": "markdown",
   "metadata": {},
   "source": [
    "Imports\n",
    "-------\n",
    "\n",
    "You can also import collections of functions and variables from external sources. To import everything from a *module*, type \"from module import *\". But to call specific functions, you can import them individually. Let's look at an example that takes the square root of a function."
   ]
  },
  {
   "cell_type": "code",
   "execution_count": 37,
   "metadata": {
    "collapsed": false
   },
   "outputs": [
    {
     "name": "stdout",
     "output_type": "stream",
     "text": [
      "5.0\n"
     ]
    }
   ],
   "source": [
    "import math\n",
    "\n",
    "print(math.sqrt(25))"
   ]
  },
  {
   "cell_type": "markdown",
   "metadata": {},
   "source": [
    "You can also import individual functions, and then call the function individually. "
   ]
  },
  {
   "cell_type": "code",
   "execution_count": 41,
   "metadata": {
    "collapsed": false
   },
   "outputs": [
    {
     "name": "stdout",
     "output_type": "stream",
     "text": [
      "5.0\n"
     ]
    }
   ],
   "source": [
    "from math import sqrt\n",
    "\n",
    "print(sqrt(25))"
   ]
  },
  {
   "cell_type": "markdown",
   "metadata": {},
   "source": [
    "Or, last and least, you can import all using the * method."
   ]
  },
  {
   "cell_type": "code",
   "execution_count": 38,
   "metadata": {
    "collapsed": false
   },
   "outputs": [
    {
     "name": "stdout",
     "output_type": "stream",
     "text": [
      "5.0\n"
     ]
    }
   ],
   "source": [
    "from math import *\n",
    "\n",
    "print(sqrt(25))"
   ]
  },
  {
   "cell_type": "markdown",
   "metadata": {},
   "source": [
    "Universal imports may look great on the surface, but they're not a good idea for one very important reason: they fill your program with a ton of variable and function names without the safety of those names still being associated with the module(s) they came from.\n",
    "\n",
    "If you have a function of your very own named sqrt and you import math, your function is safe: there is your sqrt and there is math.sqrt. If you do from math import *, however, you have a problem: namely, two different functions with the exact same name."
   ]
  },
  {
   "cell_type": "markdown",
   "metadata": {},
   "source": [
    "Lists (Let's collect data!)\n",
    "----\n",
    "\n",
    "Python knows a number of compound data types, used to group together values. The most versatile is the list, which can be written as a bunch of comma seperated values between square brackets. These can be indexed just like a string, where the index starts at zero. Typing the name of the list, immediately followed by the index in square brackets will return a certain value at that string. If the value is two part with a colon in the middle (i.e: [a,b]), then you begin at 'a' and move up to and *excluding* b. Remember, if you count up to some number, "
   ]
  },
  {
   "cell_type": "code",
   "execution_count": 2,
   "metadata": {
    "collapsed": false
   },
   "outputs": [
    {
     "data": {
      "text/plain": [
       "[4, 9, 16]"
      ]
     },
     "execution_count": 2,
     "metadata": {},
     "output_type": "execute_result"
    }
   ],
   "source": [
    "squares = [1, 4, 9, 16, 25]\n",
    "\n",
    "squares[1:4]"
   ]
  },
  {
   "cell_type": "markdown",
   "metadata": {},
   "source": [
    "While strings are immutable, lists are mutable, meaning you can alter individual values. You can also add things at the end using the .append() method, or delete them with the del method"
   ]
  },
  {
   "cell_type": "code",
   "execution_count": 12,
   "metadata": {
    "collapsed": false
   },
   "outputs": [
    {
     "data": {
      "text/plain": [
       "[1, 4, 9, 16, 25]"
      ]
     },
     "execution_count": 12,
     "metadata": {},
     "output_type": "execute_result"
    }
   ],
   "source": [
    "del squares[5]\n",
    "squares"
   ]
  },
  {
   "cell_type": "markdown",
   "metadata": {},
   "source": [
    "Loops\n",
    "------\n",
    "\n",
    "Sometimes, you'll need to do things over and over again. This can be done, very easily, with loops. A for-loop iterates over a set of data or performs a task, a certain number of times, and a while-loop does something over and over again until something is no longer true. "
   ]
  },
  {
   "cell_type": "code",
   "execution_count": 13,
   "metadata": {
    "collapsed": false
   },
   "outputs": [
    {
     "data": {
      "text/plain": [
       "['G', 'G', 'A', 'U', 'U', 'C', 'A', 'U', 'C', 'G', 'G']"
      ]
     },
     "execution_count": 13,
     "metadata": {},
     "output_type": "execute_result"
    }
   ],
   "source": [
    "'''\n",
    "Let's transcribe some DNA! DNA, the genetic code of life, consists of four base-pairs:\n",
    "Guanine, Adenine, Thymine and Cytosine (which can be denoted: G, A, T, and C). The central dogma\n",
    "of Biology asserts that DNA is transcribed into RNA which is translated into protein. Proteins \n",
    "are the molecules that do things. During the DNA-RNA, all of the Thymine bases are converted to \n",
    "Uracil (U). Let's make a \"Transcription\" program, using our knowledge of loops and lists!\n",
    "'''\n",
    "\n",
    "def transcribe(sequence):\n",
    "    for i in range(len(sequence)):\n",
    "        if (sequence[i] == 'T'):\n",
    "            sequence[i] = 'U'\n",
    "\n",
    "sequence = ['G', 'G', 'A', 'T', 'T', 'C', 'A', 'T', 'C', 'G', 'G']\n",
    "            \n",
    "transcribe(sequence)\n",
    "\n",
    "sequence"
   ]
  },
  {
   "cell_type": "markdown",
   "metadata": {},
   "source": [
    "We can also use While-loops, to do some fun things. Take a look at the program below, to see how While loops work."
   ]
  },
  {
   "cell_type": "code",
   "execution_count": 22,
   "metadata": {
    "collapsed": false
   },
   "outputs": [
    {
     "name": "stdout",
     "output_type": "stream",
     "text": [
      "1\n",
      "1\n",
      "2\n",
      "3\n",
      "5\n"
     ]
    }
   ],
   "source": [
    "'''\n",
    "The Fibonacci Sequence:\n",
    "In mathematics, a sequence is simply a significant set of numbers. \n",
    "For example, the set of natural numbers is a sequence, denoted\n",
    "(1, 2, 3, 4, ...)\n",
    "\n",
    "The Fibonacci Sequence is a special set of numbers where each number is the sum of the prior two numbers.\n",
    "(1, 1, 2, 3, 5, 8, 13, ...) . Let's make a program that automatically generates the fibonacci sequence!\n",
    "\n",
    "'''\n",
    "\n",
    "def fibonacci(n):\n",
    "    a, b = 0, 1\n",
    "    i = 0\n",
    "    while i < n:\n",
    "        print(b)\n",
    "        a, b = b, a+b\n",
    "        i = i+1\n",
    "        \n",
    "fibonacci(5)"
   ]
  },
  {
   "cell_type": "markdown",
   "metadata": {
    "collapsed": true
   },
   "source": [
    "The Range() Function \n",
    "----\n",
    "\n",
    "The range() function generates lists arithmetically. It has three parameters (i.e, range(a, b, c))\n",
    "It starts at a, and continues up to and excluding b. It takes 'c' jumps."
   ]
  },
  {
   "cell_type": "code",
   "execution_count": 31,
   "metadata": {
    "collapsed": false
   },
   "outputs": [
    {
     "name": "stdout",
     "output_type": "stream",
     "text": [
      "All numbers between 0 and 10, excluding 10: \n",
      "0\n",
      "1\n",
      "2\n",
      "3\n",
      "4\n",
      "5\n",
      "6\n",
      "7\n",
      "8\n",
      "9\n",
      "\n",
      "All odd numbers up to (but excluding) 10: \n",
      "\n",
      "1\n",
      "3\n",
      "5\n",
      "7\n",
      "9\n",
      "\n",
      "All odd numbers up to (but excluding) 10: \n",
      "\n",
      "0\n",
      "2\n",
      "4\n",
      "6\n",
      "8\n"
     ]
    }
   ],
   "source": [
    "print(\"All numbers between 0 and 10, excluding 10: \")\n",
    "for i in range(0, 10): \n",
    "    print i\n",
    "    \n",
    "print(\"\")    \n",
    "print(\"All odd numbers up to (but excluding) 10: \")\n",
    "print(\"\")    \n",
    "for i in range(1, 10, 2):\n",
    "    print i\n",
    "\n",
    "print(\"\")    \n",
    "print(\"All odd numbers up to (but excluding) 10: \")\n",
    "print(\"\")\n",
    "for i in range(0, 10, 2):\n",
    "    print i"
   ]
  },
  {
   "cell_type": "code",
   "execution_count": null,
   "metadata": {
    "collapsed": true
   },
   "outputs": [],
   "source": []
  }
 ],
 "metadata": {
  "kernelspec": {
   "display_name": "Python 2",
   "language": "python",
   "name": "python2"
  },
  "language_info": {
   "codemirror_mode": {
    "name": "ipython",
    "version": 2
   },
   "file_extension": ".py",
   "mimetype": "text/x-python",
   "name": "python",
   "nbconvert_exporter": "python",
   "pygments_lexer": "ipython2",
   "version": "2.7.11"
  }
 },
 "nbformat": 4,
 "nbformat_minor": 0
}
